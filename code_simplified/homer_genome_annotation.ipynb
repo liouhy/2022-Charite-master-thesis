{
 "cells": [
  {
   "cell_type": "markdown",
   "id": "05cd866d-8709-41b6-8192-d0f538935a3e",
   "metadata": {},
   "source": [
    "# HOMER - genome annotation\n",
    "Here, we used HOMER to annotate genomic regions from scATAC-seq datasets. First, we created bed files of genomic regions."
   ]
  },
  {
   "cell_type": "code",
   "execution_count": null,
   "id": "68588e10-8afe-496e-8986-554bc5934722",
   "metadata": {},
   "outputs": [],
   "source": [
    "import pandas as pd\n",
    "import anndata as ad"
   ]
  },
  {
   "cell_type": "code",
   "execution_count": null,
   "id": "1e1bd83a-5893-462a-9e05-72816b9f1f38",
   "metadata": {},
   "outputs": [],
   "source": [
    "# Granja et al.\n",
    "ft = pd.read_csv('../raw/scATAC-Healthy-Hematopoiesis-191120-rows.csv')\n",
    "ft_homer = pd.DataFrame()\n",
    "ft_homer[['chr','start','end']] = ft.iloc[:,0].str.split('_',expand=True)\n",
    "ft_homer['id'] = ft['name']\n",
    "ft_homer['score'] = ft['score']\n",
    "ft_homer['strand'] = '*'\n",
    "ft_homer.to_csv('../raw/scATAC-Healthy-Hematopoiesis-191120-ft-homer.txt', sep='\\t', header=None, index=None)"
   ]
  },
  {
   "cell_type": "code",
   "execution_count": null,
   "id": "adf0c419-a3db-47a1-a846-4f12bc7f1e6a",
   "metadata": {},
   "outputs": [],
   "source": [
    "# Luecken et al.\n",
    "r_adata = ad.read_h5ad(\"../processed/Luecken_multiome_BMMC-r_adata.h5ad\")\n",
    "index=r_adata.var.loc[r_adata.var['feature_types'] == 'ATAC',:].index\n",
    "bed=index.str.split('-', expand=True).to_frame(index=False, name=['chr','start','end'])\n",
    "bed.to_csv('../processed/Luecken_ATAC.bed', sep='\\t', header=None, index=None)"
   ]
  },
  {
   "cell_type": "code",
   "execution_count": null,
   "id": "4622d238-d791-46f0-9b56-fe22cff30442",
   "metadata": {},
   "outputs": [],
   "source": [
    "# 10x\n",
    "adata_atac = ad.read_h5ad('../processed/10X_multiome/pbmc_atac.h5ad')\n",
    "bed = pd.DataFrame(adata_atac.var.index).iloc[:,0].str.split('-',expand=True)\n",
    "bed.to_csv('../processed/10X_multiome/ATAC.bed', sep='\\t', header=None, index=None)"
   ]
  },
  {
   "cell_type": "markdown",
   "id": "ce618c8a-c1cf-40cf-a487-4f66a506e89b",
   "metadata": {},
   "source": [
    "Run the lines in homer_annotation.txt to perform annotation."
   ]
  }
 ],
 "metadata": {
  "kernelspec": {
   "display_name": "Python 3 (ipykernel)",
   "language": "python",
   "name": "python3"
  },
  "language_info": {
   "codemirror_mode": {
    "name": "ipython",
    "version": 3
   },
   "file_extension": ".py",
   "mimetype": "text/x-python",
   "name": "python",
   "nbconvert_exporter": "python",
   "pygments_lexer": "ipython3",
   "version": "3.9.10"
  }
 },
 "nbformat": 4,
 "nbformat_minor": 5
}
